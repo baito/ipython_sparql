{
 "cells": [
  {
   "cell_type": "code",
   "execution_count": 2,
   "metadata": {
    "collapsed": false
   },
   "outputs": [],
   "source": [
    "%load_ext ipython_sparql"
   ]
  },
  {
   "cell_type": "raw",
   "metadata": {
    "collapsed": false
   },
   "source": []
  },
  {
   "cell_type": "code",
   "execution_count": 3,
   "metadata": {
    "collapsed": false
   },
   "outputs": [],
   "source": [
    "%sparql_endpoint http://dbpedia.org/sparql/"
   ]
  },
  {
   "cell_type": "code",
   "execution_count": 4,
   "metadata": {
    "collapsed": false
   },
   "outputs": [
    {
     "data": {
      "text/html": [
       "<table>\n",
       "<tr><th>country                                            </th><th>capital          </th><th style=\"text-align: right;\">    lat</th><th style=\"text-align: right;\">    long</th></tr>\n",
       "<tr><td>http://dbpedia.org/resource/Allied-occupied_Germany</td><td>Frankfurt am Main</td><td style=\"text-align: right;\">50.1167</td><td style=\"text-align: right;\"> 8.68333</td></tr>\n",
       "<tr><td>http://dbpedia.org/resource/Allied-occupied_Germany</td><td>Bad Oeynhausen   </td><td style=\"text-align: right;\">52.2   </td><td style=\"text-align: right;\"> 8.8    </td></tr>\n",
       "<tr><td>http://dbpedia.org/resource/Germany                </td><td>Berlin           </td><td style=\"text-align: right;\">52.5167</td><td style=\"text-align: right;\">13.3833 </td></tr>\n",
       "<tr><td>http://dbpedia.org/resource/Allied-occupied_Germany</td><td>Berlin           </td><td style=\"text-align: right;\">52.5167</td><td style=\"text-align: right;\">13.3833 </td></tr>\n",
       "</table>"
      ],
      "text/plain": [
       "<IPython.core.display.HTML object>"
      ]
     },
     "metadata": {},
     "output_type": "display_data"
    }
   ],
   "source": [
    "%%sparql\n",
    "PREFIX o: <http://dbpedia.org/ontology/>\n",
    "PREFIX p: <http://dbpedia.org/property/>\n",
    "PREFIX geo: <http://www.w3.org/2003/01/geo/wgs84_pos#>\n",
    "PREFIX foaf: <http://xmlns.com/foaf/0.1/>\n",
    "SELECT ?country ?capital ?lat ?long WHERE {\n",
    "    ?country a o:Country ; foaf:name \"Germany\"@en; o:capital [ geo:lat ?lat ; geo:long ?long ; p:name ?capital ]\n",
    "}"
   ]
  },
  {
   "cell_type": "code",
   "execution_count": 5,
   "metadata": {
    "collapsed": false
   },
   "outputs": [
    {
     "data": {
      "text/html": [
       "<table>\n",
       "<tr><td>False</td></tr>\n",
       "</table>"
      ],
      "text/plain": [
       "<IPython.core.display.HTML object>"
      ]
     },
     "metadata": {},
     "output_type": "display_data"
    }
   ],
   "source": [
    "%%sparql\n",
    "ASK {\n",
    "  <http://pt.dbpedia.org/resource/Blumenau> ?p ?o\n",
    "}"
   ]
  },
  {
   "cell_type": "code",
   "execution_count": 6,
   "metadata": {
    "collapsed": false
   },
   "outputs": [
    {
     "data": {
      "text/plain": [
       "{u'boolean': False, u'head': {u'link': []}}"
      ]
     },
     "execution_count": 6,
     "metadata": {},
     "output_type": "execute_result"
    }
   ],
   "source": [
    "%sparql_last_result"
   ]
  },
  {
   "cell_type": "code",
   "execution_count": 7,
   "metadata": {
    "collapsed": true
   },
   "outputs": [],
   "source": [
    "a = %sparql_last_result"
   ]
  },
  {
   "cell_type": "code",
   "execution_count": 8,
   "metadata": {
    "collapsed": false
   },
   "outputs": [
    {
     "data": {
      "text/plain": [
       "{u'boolean': False, u'head': {u'link': []}}"
      ]
     },
     "execution_count": 8,
     "metadata": {},
     "output_type": "execute_result"
    }
   ],
   "source": [
    "a"
   ]
  },
  {
   "cell_type": "code",
   "execution_count": null,
   "metadata": {
    "collapsed": true
   },
   "outputs": [],
   "source": []
  }
 ],
 "metadata": {
  "kernelspec": {
   "display_name": "Python 2",
   "language": "python",
   "name": "python2"
  },
  "language_info": {
   "codemirror_mode": {
    "name": "ipython",
    "version": 2
   },
   "file_extension": ".py",
   "mimetype": "text/x-python",
   "name": "python",
   "nbconvert_exporter": "python",
   "pygments_lexer": "ipython2",
   "version": "2.7.6"
  }
 },
 "nbformat": 4,
 "nbformat_minor": 0
}
